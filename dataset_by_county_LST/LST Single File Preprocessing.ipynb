{
 "cells": [
  {
   "cell_type": "markdown",
   "metadata": {},
   "source": [
    "# Cleaning LST GeoTIFF Files"
   ]
  },
  {
   "cell_type": "code",
   "execution_count": 1,
   "metadata": {},
   "outputs": [],
   "source": [
    "# Import libraries\n",
    "import os\n",
    "import glob\n",
    "from osgeo import gdal\n",
    "import numpy as np\n",
    "import matplotlib.pyplot as plt\n",
    "import scipy.ndimage\n",
    "import pandas as pd\n",
    "import datetime as dt"
   ]
  },
  {
   "cell_type": "code",
   "execution_count": 2,
   "metadata": {},
   "outputs": [],
   "source": [
    "# Set input directory, and change working directory\n",
    "inDir = 'D:\\Files\\School\\COMP_490_Senior_Design\\Beat-the-Heat\\Datasets\\LST_BA' # IMPORTANT: Update to reflect directory on your OS\n",
    "os.chdir(inDir)                                                               # Change to working directory\n",
    "outDir = os.path.normpath(os.path.split(inDir)[0] + os.sep + 'output') + '\\\\' # Create and set output directory\n",
    "if not os.path.exists(outDir): os.makedirs(outDir)"
   ]
  },
  {
   "cell_type": "code",
   "execution_count": 3,
   "metadata": {},
   "outputs": [],
   "source": [
    "LST_Day = glob.glob('MOD11A1.006_LST_Day_1km**.tif')"
   ]
  },
  {
   "cell_type": "code",
   "execution_count": 4,
   "metadata": {},
   "outputs": [],
   "source": [
    "LST = gdal.Open(LST_Day[0])                    # Read file in, starting with MOD13Q1 version 6\n",
    "LSTBand = LST.GetRasterBand(1)                  # Read the band (layer)\n",
    "LSTData = LSTBand.ReadAsArray().astype('float') # Import band as an array with type float"
   ]
  },
  {
   "cell_type": "code",
   "execution_count": 5,
   "metadata": {},
   "outputs": [
    {
     "name": "stdout",
     "output_type": "stream",
     "text": [
      "MOD11A1.006_LST_Day_1km_doy2019001_aid0001.tif\n"
     ]
    }
   ],
   "source": [
    "print(LST_Day[0])"
   ]
  },
  {
   "cell_type": "code",
   "execution_count": 6,
   "metadata": {},
   "outputs": [
    {
     "name": "stdout",
     "output_type": "stream",
     "text": [
      "Product Name: MOD11A1.006\n",
      "Layer Name: LST_Day_1km\n",
      "Date of Observation: 01/01/2019\n"
     ]
    }
   ],
   "source": [
    "# File name metadata:\n",
    "productId = LST_Day[0].split('_')[0]                                          # First: product name\n",
    "layerId = LST_Day[0].split(productId + '_')[1].split('_doy')[0]               # Second: layer name\n",
    "yeardoy = LST_Day[0].split(layerId+'_doy')[1].split('_aid')[0]                # Third: date\n",
    "aid = LST_Day[0].split(yeardoy+'_')[1].split('.tif')[0]                       # Fourth: unique ROI identifier (aid)\n",
    "date = dt.datetime.strptime(yeardoy, '%Y%j').strftime('%m/%d/%Y')              # Convert YYYYDDD to MM/DD/YYYY\n",
    "print('Product Name: {}\\nLayer Name: {}\\nDate of Observation: {}'.format(productId, layerId, date))"
   ]
  },
  {
   "cell_type": "code",
   "execution_count": 7,
   "metadata": {},
   "outputs": [
    {
     "name": "stdout",
     "output_type": "stream",
     "text": [
      "Min LST: 12879.0\n",
      "Max LST: 14698.0\n",
      "Mean LST: 13992.330051571\n",
      "SD LST: 338.60176601887\n"
     ]
    }
   ],
   "source": [
    "# File Metadata\n",
    "LST_Day_meta = LST.GetMetadata()                   # Store metadata in dictionary\n",
    "rows, cols = LST.RasterYSize, LST.RasterXSize  # Number of rows,columns\n",
    "\n",
    "# Projection information\n",
    "geotransform = LST.GetGeoTransform()\n",
    "proj= LST.GetProjection() \n",
    "\n",
    "# Band metadata\n",
    "LSTFill = LSTBand.GetNoDataValue()            # Returns fill value\n",
    "LSTStats = LSTBand.GetStatistics(True, True)  # returns min, max, mean, and standard deviation\n",
    "LST = None                                    # Close the GeoTIFF file\n",
    "print('Min LST: {}\\nMax LST: {}\\nMean LST: {}\\nSD LST: {}'.format(LSTStats[0],LSTStats[1], LSTStats[2], LSTStats[3]))"
   ]
  },
  {
   "cell_type": "code",
   "execution_count": 8,
   "metadata": {},
   "outputs": [
    {
     "name": "stdout",
     "output_type": "stream",
     "text": [
      "Min LST: 253.96\n",
      "Max LST: 295.7\n",
      "Mean LST: 279.8153025102607\n",
      "SD LST: 6.821554574236811\n"
     ]
    }
   ],
   "source": [
    "scaleFactor = float(LST_Day_meta['scale_factor'])  # Search the metadata dictionary for the scale factor \n",
    "units = LST_Day_meta['units']                      # Search the metadata dictionary for the units\n",
    "LSTData[LSTData == LSTFill] = np.nan           # Set the fill value equal to NaN for the array\n",
    "LSTScaled = LSTData * scaleFactor              # Apply the scale factor using simple multiplication\n",
    "\n",
    "# Generate statistics on the scaled data\n",
    "LSTStats_sc = [np.nanmin(LSTScaled), np.nanmax(LSTScaled), np.nanmean(LSTScaled), np.nanstd(LSTScaled)] # Create a list of stats\n",
    "print('Min LST: {}\\nMax LST: {}\\nMean LST: {}\\nSD LST: {}'.format(LSTStats_sc[0],LSTStats_sc[1], LSTStats_sc[2], LSTStats_sc[3]))"
   ]
  },
  {
   "cell_type": "code",
   "execution_count": 9,
   "metadata": {},
   "outputs": [],
   "source": [
    "lut = glob.glob('MOD11A1-006-QC-Day-lookup.csv')                       # Search for look up table \n",
    "qualityFiles = glob.glob('MOD11A1.006_QC_Day**.tif')  # Search the directory for the associated quality .tifs\n",
    "quality = gdal.Open(qualityFiles[0])                  # Open the first quality file\n",
    "qualityData = quality.GetRasterBand(1).ReadAsArray()  # Read in as an array\n",
    "quality = None"
   ]
  },
  {
   "cell_type": "code",
   "execution_count": 10,
   "metadata": {},
   "outputs": [
    {
     "data": {
      "text/html": [
       "<div>\n",
       "<style scoped>\n",
       "    .dataframe tbody tr th:only-of-type {\n",
       "        vertical-align: middle;\n",
       "    }\n",
       "\n",
       "    .dataframe tbody tr th {\n",
       "        vertical-align: top;\n",
       "    }\n",
       "\n",
       "    .dataframe thead th {\n",
       "        text-align: right;\n",
       "    }\n",
       "</style>\n",
       "<table border=\"1\" class=\"dataframe\">\n",
       "  <thead>\n",
       "    <tr style=\"text-align: right;\">\n",
       "      <th></th>\n",
       "      <th>Value</th>\n",
       "      <th>MODLAND</th>\n",
       "      <th>Emis Error flag</th>\n",
       "      <th>LST Error Flag</th>\n",
       "      <th>Data Quality flag</th>\n",
       "    </tr>\n",
       "  </thead>\n",
       "  <tbody>\n",
       "    <tr>\n",
       "      <th>0</th>\n",
       "      <td>0</td>\n",
       "      <td>LST produced, good quality, not necessary to e...</td>\n",
       "      <td>Average emissivity error &lt;= 0.01</td>\n",
       "      <td>Average LST error &lt;= 1K</td>\n",
       "      <td>Good data quality</td>\n",
       "    </tr>\n",
       "    <tr>\n",
       "      <th>1</th>\n",
       "      <td>2</td>\n",
       "      <td>LST not produced due to cloud effects</td>\n",
       "      <td>Average emissivity error &lt;= 0.01</td>\n",
       "      <td>Average LST error &lt;= 1K</td>\n",
       "      <td>Good data quality</td>\n",
       "    </tr>\n",
       "    <tr>\n",
       "      <th>2</th>\n",
       "      <td>3</td>\n",
       "      <td>LST not produced primarily due to reasons othe...</td>\n",
       "      <td>Average emissivity error &lt;= 0.01</td>\n",
       "      <td>Average LST error &lt;= 1K</td>\n",
       "      <td>Good data quality</td>\n",
       "    </tr>\n",
       "    <tr>\n",
       "      <th>3</th>\n",
       "      <td>8</td>\n",
       "      <td>LST produced, good quality, not necessary to e...</td>\n",
       "      <td>Average emissivity error &lt;= 0.01</td>\n",
       "      <td>Average LST error &lt;= 1K</td>\n",
       "      <td>TBD</td>\n",
       "    </tr>\n",
       "    <tr>\n",
       "      <th>4</th>\n",
       "      <td>17</td>\n",
       "      <td>LST produced, other quality, recommend examina...</td>\n",
       "      <td>Average emissivity error &lt;= 0.02</td>\n",
       "      <td>Average LST error &lt;= 1K</td>\n",
       "      <td>Good data quality</td>\n",
       "    </tr>\n",
       "  </tbody>\n",
       "</table>\n",
       "</div>"
      ],
      "text/plain": [
       "   Value                                            MODLAND  \\\n",
       "0      0  LST produced, good quality, not necessary to e...   \n",
       "1      2              LST not produced due to cloud effects   \n",
       "2      3  LST not produced primarily due to reasons othe...   \n",
       "3      8  LST produced, good quality, not necessary to e...   \n",
       "4     17  LST produced, other quality, recommend examina...   \n",
       "\n",
       "                    Emis Error flag           LST Error Flag  \\\n",
       "0  Average emissivity error <= 0.01  Average LST error <= 1K   \n",
       "1  Average emissivity error <= 0.01  Average LST error <= 1K   \n",
       "2  Average emissivity error <= 0.01  Average LST error <= 1K   \n",
       "3  Average emissivity error <= 0.01  Average LST error <= 1K   \n",
       "4  Average emissivity error <= 0.02  Average LST error <= 1K   \n",
       "\n",
       "   Data Quality flag  \n",
       "0  Good data quality  \n",
       "1  Good data quality  \n",
       "2  Good data quality  \n",
       "3                TBD  \n",
       "4  Good data quality  "
      ]
     },
     "execution_count": 10,
     "metadata": {},
     "output_type": "execute_result"
    }
   ],
   "source": [
    "v6_QA_lut = pd.read_csv(lut[0])     # Read in the lut\n",
    "v6_QA_lut.head()                    # print the first few rows of the pandas dataframe"
   ]
  },
  {
   "cell_type": "code",
   "execution_count": 11,
   "metadata": {
    "scrolled": true
   },
   "outputs": [
    {
     "data": {
      "text/html": [
       "<div>\n",
       "<style scoped>\n",
       "    .dataframe tbody tr th:only-of-type {\n",
       "        vertical-align: middle;\n",
       "    }\n",
       "\n",
       "    .dataframe tbody tr th {\n",
       "        vertical-align: top;\n",
       "    }\n",
       "\n",
       "    .dataframe thead th {\n",
       "        text-align: right;\n",
       "    }\n",
       "</style>\n",
       "<table border=\"1\" class=\"dataframe\">\n",
       "  <thead>\n",
       "    <tr style=\"text-align: right;\">\n",
       "      <th></th>\n",
       "      <th>Value</th>\n",
       "      <th>MODLAND</th>\n",
       "      <th>Emis Error flag</th>\n",
       "      <th>LST Error Flag</th>\n",
       "      <th>Data Quality flag</th>\n",
       "    </tr>\n",
       "  </thead>\n",
       "  <tbody>\n",
       "    <tr>\n",
       "      <th>0</th>\n",
       "      <td>0</td>\n",
       "      <td>LST produced, good quality, not necessary to e...</td>\n",
       "      <td>Average emissivity error &lt;= 0.01</td>\n",
       "      <td>Average LST error &lt;= 1K</td>\n",
       "      <td>Good data quality</td>\n",
       "    </tr>\n",
       "    <tr>\n",
       "      <th>3</th>\n",
       "      <td>8</td>\n",
       "      <td>LST produced, good quality, not necessary to e...</td>\n",
       "      <td>Average emissivity error &lt;= 0.01</td>\n",
       "      <td>Average LST error &lt;= 1K</td>\n",
       "      <td>TBD</td>\n",
       "    </tr>\n",
       "    <tr>\n",
       "      <th>4</th>\n",
       "      <td>17</td>\n",
       "      <td>LST produced, other quality, recommend examina...</td>\n",
       "      <td>Average emissivity error &lt;= 0.02</td>\n",
       "      <td>Average LST error &lt;= 1K</td>\n",
       "      <td>Good data quality</td>\n",
       "    </tr>\n",
       "    <tr>\n",
       "      <th>5</th>\n",
       "      <td>25</td>\n",
       "      <td>LST produced, other quality, recommend examina...</td>\n",
       "      <td>Average emissivity error &lt;= 0.02</td>\n",
       "      <td>Average LST error &lt;= 1K</td>\n",
       "      <td>TBD</td>\n",
       "    </tr>\n",
       "    <tr>\n",
       "      <th>6</th>\n",
       "      <td>65</td>\n",
       "      <td>LST produced, other quality, recommend examina...</td>\n",
       "      <td>Average emissivity error &lt;= 0.01</td>\n",
       "      <td>Average LST error &lt;= 2K</td>\n",
       "      <td>Good data quality</td>\n",
       "    </tr>\n",
       "    <tr>\n",
       "      <th>7</th>\n",
       "      <td>73</td>\n",
       "      <td>LST produced, other quality, recommend examina...</td>\n",
       "      <td>Average emissivity error &lt;= 0.01</td>\n",
       "      <td>Average LST error &lt;= 2K</td>\n",
       "      <td>TBD</td>\n",
       "    </tr>\n",
       "    <tr>\n",
       "      <th>8</th>\n",
       "      <td>81</td>\n",
       "      <td>LST produced, other quality, recommend examina...</td>\n",
       "      <td>Average emissivity error &lt;= 0.02</td>\n",
       "      <td>Average LST error &lt;= 2K</td>\n",
       "      <td>Good data quality</td>\n",
       "    </tr>\n",
       "    <tr>\n",
       "      <th>9</th>\n",
       "      <td>89</td>\n",
       "      <td>LST produced, other quality, recommend examina...</td>\n",
       "      <td>Average emissivity error &lt;= 0.02</td>\n",
       "      <td>Average LST error &lt;= 2K</td>\n",
       "      <td>TBD</td>\n",
       "    </tr>\n",
       "    <tr>\n",
       "      <th>10</th>\n",
       "      <td>129</td>\n",
       "      <td>LST produced, other quality, recommend examina...</td>\n",
       "      <td>Average emissivity error &lt;= 0.01</td>\n",
       "      <td>Average LST error &lt;= 3K</td>\n",
       "      <td>Good data quality</td>\n",
       "    </tr>\n",
       "    <tr>\n",
       "      <th>11</th>\n",
       "      <td>137</td>\n",
       "      <td>LST produced, other quality, recommend examina...</td>\n",
       "      <td>Average emissivity error &lt;= 0.01</td>\n",
       "      <td>Average LST error &lt;= 3K</td>\n",
       "      <td>TBD</td>\n",
       "    </tr>\n",
       "    <tr>\n",
       "      <th>12</th>\n",
       "      <td>145</td>\n",
       "      <td>LST produced, other quality, recommend examina...</td>\n",
       "      <td>Average emissivity error &lt;= 0.02</td>\n",
       "      <td>Average LST error &lt;= 3K</td>\n",
       "      <td>Good data quality</td>\n",
       "    </tr>\n",
       "    <tr>\n",
       "      <th>13</th>\n",
       "      <td>153</td>\n",
       "      <td>LST produced, other quality, recommend examina...</td>\n",
       "      <td>Average emissivity error &lt;= 0.02</td>\n",
       "      <td>Average LST error &lt;= 3K</td>\n",
       "      <td>TBD</td>\n",
       "    </tr>\n",
       "  </tbody>\n",
       "</table>\n",
       "</div>"
      ],
      "text/plain": [
       "    Value                                            MODLAND  \\\n",
       "0       0  LST produced, good quality, not necessary to e...   \n",
       "3       8  LST produced, good quality, not necessary to e...   \n",
       "4      17  LST produced, other quality, recommend examina...   \n",
       "5      25  LST produced, other quality, recommend examina...   \n",
       "6      65  LST produced, other quality, recommend examina...   \n",
       "7      73  LST produced, other quality, recommend examina...   \n",
       "8      81  LST produced, other quality, recommend examina...   \n",
       "9      89  LST produced, other quality, recommend examina...   \n",
       "10    129  LST produced, other quality, recommend examina...   \n",
       "11    137  LST produced, other quality, recommend examina...   \n",
       "12    145  LST produced, other quality, recommend examina...   \n",
       "13    153  LST produced, other quality, recommend examina...   \n",
       "\n",
       "                     Emis Error flag           LST Error Flag  \\\n",
       "0   Average emissivity error <= 0.01  Average LST error <= 1K   \n",
       "3   Average emissivity error <= 0.01  Average LST error <= 1K   \n",
       "4   Average emissivity error <= 0.02  Average LST error <= 1K   \n",
       "5   Average emissivity error <= 0.02  Average LST error <= 1K   \n",
       "6   Average emissivity error <= 0.01  Average LST error <= 2K   \n",
       "7   Average emissivity error <= 0.01  Average LST error <= 2K   \n",
       "8   Average emissivity error <= 0.02  Average LST error <= 2K   \n",
       "9   Average emissivity error <= 0.02  Average LST error <= 2K   \n",
       "10  Average emissivity error <= 0.01  Average LST error <= 3K   \n",
       "11  Average emissivity error <= 0.01  Average LST error <= 3K   \n",
       "12  Average emissivity error <= 0.02  Average LST error <= 3K   \n",
       "13  Average emissivity error <= 0.02  Average LST error <= 3K   \n",
       "\n",
       "    Data Quality flag  \n",
       "0   Good data quality  \n",
       "3                 TBD  \n",
       "4   Good data quality  \n",
       "5                 TBD  \n",
       "6   Good data quality  \n",
       "7                 TBD  \n",
       "8   Good data quality  \n",
       "9                 TBD  \n",
       "10  Good data quality  \n",
       "11                TBD  \n",
       "12  Good data quality  \n",
       "13                TBD  "
      ]
     },
     "execution_count": 11,
     "metadata": {},
     "output_type": "execute_result"
    }
   ],
   "source": [
    "# Include good quality based on MODLAND\n",
    "v6_QA_lut = v6_QA_lut[v6_QA_lut['MODLAND'].isin([\n",
    "    'LST produced, good quality, not necessary to examine more detailed QA', \n",
    "    'LST produced, other quality, recommend examination of more detailed QA'])]\n",
    "\n",
    "# Exclude lower quality VI usefulness\n",
    "VIU =[\"LST not produced due to cloud effects, LST not produced primarily due to reasons other than cloud\"]\n",
    "v6_QA_lut = v6_QA_lut[~v6_QA_lut['MODLAND'].isin(VIU)]\n",
    "v6_QA_lut"
   ]
  },
  {
   "cell_type": "code",
   "execution_count": 12,
   "metadata": {},
   "outputs": [
    {
     "name": "stdout",
     "output_type": "stream",
     "text": [
      "[0, 8, 17, 25, 65, 73, 81, 89, 129, 137, 145, 153]\n"
     ]
    }
   ],
   "source": [
    "goodQuality = list(v6_QA_lut['Value']) # Retrieve list of possible QA values from the quality dataframe\n",
    "print(goodQuality)"
   ]
  },
  {
   "cell_type": "code",
   "execution_count": 13,
   "metadata": {
    "scrolled": true
   },
   "outputs": [],
   "source": [
    "LST_masked = np.ma.MaskedArray(LSTScaled, np.in1d(qualityData, goodQuality, invert = True))    # Apply QA mask to the EVI data"
   ]
  },
  {
   "cell_type": "code",
   "execution_count": 14,
   "metadata": {
    "scrolled": false
   },
   "outputs": [
    {
     "data": {
      "text/plain": [
       "array([269.84, 269.84, 277.  , ..., 289.98, 290.22, 290.22])"
      ]
     },
     "execution_count": 14,
     "metadata": {},
     "output_type": "execute_result"
    }
   ],
   "source": [
    "LST_masked.compressed()"
   ]
  },
  {
   "cell_type": "code",
   "execution_count": 15,
   "metadata": {},
   "outputs": [],
   "source": [
    "# Set matplotlib plots inline\n",
    "%matplotlib inline "
   ]
  },
  {
   "cell_type": "code",
   "execution_count": 16,
   "metadata": {},
   "outputs": [
    {
     "data": {
      "text/plain": [
       "<matplotlib.image.AxesImage at 0x201cdd8d730>"
      ]
     },
     "execution_count": 16,
     "metadata": {},
     "output_type": "execute_result"
    },
    {
     "data": {
      "image/png": "[encoded data removed]",
      "text/plain": [
       "<Figure size 432x288 with 1 Axes>"
      ]
     },
     "metadata": {
      "needs_background": "light"
     },
     "output_type": "display_data"
    }
   ],
   "source": [
    "plt.imshow(LSTScaled)  # Visualize a basic plot of the scaled EVI data"
   ]
  },
  {
   "cell_type": "code",
   "execution_count": 17,
   "metadata": {},
   "outputs": [
    {
     "data": {
      "image/png": "[encoded data removed]",
      "text/plain": [
       "<Figure size 720x540 with 1 Axes>"
      ]
     },
     "metadata": {
      "needs_background": "light"
     },
     "output_type": "display_data"
    }
   ],
   "source": [
    "plt.figure(figsize = (10,7.5))    # Set the figure size (x,y)\n",
    "plt.axis('off')                   # Remove the axes' values\n",
    "\n",
    "# Plot the array, using a colormap and setting a custom linear stretch based on the min/max EVI values\n",
    "plt.imshow(LSTScaled, vmin = np.nanmin(LSTScaled), vmax = np.nanmax(LSTScaled), cmap = 'YlGn');"
   ]
  },
  {
   "cell_type": "markdown",
   "metadata": {},
   "source": [
    "# Cleaning Burned Area "
   ]
  },
  {
   "cell_type": "code",
   "execution_count": 18,
   "metadata": {},
   "outputs": [],
   "source": [
    "# Import libraries\n",
    "import os\n",
    "import glob\n",
    "from osgeo import gdal\n",
    "import numpy as np\n",
    "import matplotlib.pyplot as plt\n",
    "import scipy.ndimage\n",
    "import pandas as pd\n",
    "import datetime as dt"
   ]
  },
  {
   "cell_type": "code",
   "execution_count": 19,
   "metadata": {},
   "outputs": [],
   "source": [
    "# Set input directory, and change working directory\n",
    "BAinDir = 'D:\\Files\\School\\COMP_490_Senior_Design\\Beat-the-Heat\\Datasets\\LST_BA'  # IMPORTANT: Update to reflect directory on your OS\n",
    "os.chdir(BAinDir)                                                               # Change to working directory\n",
    "outDir = os.path.normpath(os.path.split(BAinDir)[0] + os.sep + 'output') + '\\\\' # Create and set output directory\n",
    "if not os.path.exists(outDir): os.makedirs(outDir)"
   ]
  },
  {
   "cell_type": "code",
   "execution_count": 20,
   "metadata": {},
   "outputs": [],
   "source": [
    "BAFiles = glob.glob('MCD64A1.006_Burn_Date_**.tif') # Search for and create a list of BA files"
   ]
  },
  {
   "cell_type": "code",
   "execution_count": 21,
   "metadata": {},
   "outputs": [
    {
     "name": "stdout",
     "output_type": "stream",
     "text": [
      "24\n"
     ]
    }
   ],
   "source": [
    "print(len(BAFiles))"
   ]
  },
  {
   "cell_type": "code",
   "execution_count": 22,
   "metadata": {},
   "outputs": [],
   "source": [
    "BA = gdal.Open(BAFiles[0])                    # Read file in, starting with MCD64A1 version 6\n",
    "BABand = BA.GetRasterBand(1)                  # Read the band (layer)\n",
    "BAData = BABand.ReadAsArray().astype('float') # Import band as an array with type float"
   ]
  },
  {
   "cell_type": "code",
   "execution_count": 23,
   "metadata": {
    "scrolled": true
   },
   "outputs": [
    {
     "name": "stdout",
     "output_type": "stream",
     "text": [
      "MCD64A1.006_Burn_Date_doy2019001_aid0001.tif\n"
     ]
    }
   ],
   "source": [
    "print(BAFiles[0])"
   ]
  },
  {
   "cell_type": "code",
   "execution_count": 24,
   "metadata": {},
   "outputs": [
    {
     "name": "stdout",
     "output_type": "stream",
     "text": [
      "Product Name: MCD64A1.006\n",
      "Layer Name: Burn_Date\n",
      "Date of Observation: 01/01/2019\n"
     ]
    }
   ],
   "source": [
    "# File name metadata:\n",
    "BAproductId = BAFiles[0].split('_')[0]                                          # First: product name\n",
    "BAlayerId = BAFiles[0].split(BAproductId + '_')[1].split('_doy')[0]               # Second: layer name\n",
    "BAyeardoy = BAFiles[0].split(BAlayerId+'_doy')[1].split('_aid')[0]                # Third: date\n",
    "BAaid = BAFiles[0].split(BAyeardoy+'_')[1].split('.tif')[0]                       # Fourth: unique ROI identifier (aid)\n",
    "BAdate = dt.datetime.strptime(BAyeardoy, '%Y%j').strftime('%m/%d/%Y')              # Convert YYYYDDD to MM/DD/YYYY\n",
    "print('Product Name: {}\\nLayer Name: {}\\nDate of Observation: {}'.format(BAproductId, BAlayerId, BAdate))"
   ]
  },
  {
   "cell_type": "code",
   "execution_count": 25,
   "metadata": {},
   "outputs": [
    {
     "name": "stdout",
     "output_type": "stream",
     "text": [
      "Min BA: -2.0\n",
      "Max BA: 0.0\n",
      "Mean BA: -0.088109405992274\n",
      "SD BA: 0.41043336189964\n"
     ]
    }
   ],
   "source": [
    "# File Metadata\n",
    "BA_meta = BA.GetMetadata()                   # Store metadata in dictionary\n",
    "rows, cols = BA.RasterYSize, BA.RasterXSize  # Number of rows,columns\n",
    "\n",
    "# Projection information\n",
    "geotransform = BA.GetGeoTransform()\n",
    "proj= BA.GetProjection() \n",
    "\n",
    "# Band metadata\n",
    "BAFill = BABand.GetNoDataValue()            # Returns fill value\n",
    "BAStats = BABand.GetStatistics(True, True)  # returns min, max, mean, and standard deviation\n",
    "BA = None                                    # Close the GeoTIFF file\n",
    "print('Min BA: {}\\nMax BA: {}\\nMean BA: {}\\nSD BA: {}'.format(BAStats[0],BAStats[1], BAStats[2], BAStats[3]))"
   ]
  },
  {
   "cell_type": "code",
   "execution_count": 26,
   "metadata": {},
   "outputs": [
    {
     "name": "stdout",
     "output_type": "stream",
     "text": [
      "Min BA: -2.0\n",
      "Max BA: 20.0\n",
      "Mean BA: -0.08483157396547111\n",
      "SD BA: 0.40409342268530457\n"
     ]
    }
   ],
   "source": [
    "scaleFactor = float(BA_meta['scale_factor'])  # Search the metadata dictionary for the scale factor \n",
    "units = BA_meta['units']                      # Search the metadata dictionary for the units\n",
    "BAData[BAData == BAFill] = np.nan           # Set the fill value equal to NaN for the array\n",
    "BAScaled = BAData * scaleFactor              # Apply the scale factor using simple multiplication\n",
    "\n",
    "# Generate statistics on the scaled data\n",
    "BAStats_sc = [np.nanmin(BAScaled), np.nanmax(BAScaled), np.nanmean(BAScaled), np.nanstd(BAScaled)] # Create a list of stats\n",
    "print('Min BA: {}\\nMax BA: {}\\nMean BA: {}\\nSD BA: {}'.format(BAStats_sc[0],BAStats_sc[1], BAStats_sc[2], BAStats_sc[3]))"
   ]
  },
  {
   "cell_type": "code",
   "execution_count": 27,
   "metadata": {},
   "outputs": [
    {
     "data": {
      "text/plain": [
       "array([[nan, nan, nan, ..., nan, nan, nan],\n",
       "       [nan, nan, nan, ..., nan, nan, nan],\n",
       "       [nan, nan, nan, ..., nan, nan, nan],\n",
       "       ...,\n",
       "       [nan, nan, nan, ..., nan, nan, nan],\n",
       "       [nan, nan, nan, ..., nan, nan, nan],\n",
       "       [nan, nan, nan, ..., nan, nan, nan]])"
      ]
     },
     "execution_count": 27,
     "metadata": {},
     "output_type": "execute_result"
    }
   ],
   "source": [
    "BAScaled"
   ]
  },
  {
   "cell_type": "code",
   "execution_count": 28,
   "metadata": {},
   "outputs": [],
   "source": [
    "lut = glob.glob('MCD64A1-006-QA-lookup.csv')                                        # Search for look up table \n",
    "qualityFiles =glob.glob('MCD64A1.006_QA_**.tif')  # Search the directory for the associated quality .tifs\n",
    "quality = gdal.Open(qualityFiles[0])                                   # Open the first quality file\n",
    "qualityData = quality.GetRasterBand(1).ReadAsArray()                   # Read in as an array\n",
    "quality = None "
   ]
  },
  {
   "cell_type": "code",
   "execution_count": 29,
   "metadata": {},
   "outputs": [
    {
     "data": {
      "text/html": [
       "<div>\n",
       "<style scoped>\n",
       "    .dataframe tbody tr th:only-of-type {\n",
       "        vertical-align: middle;\n",
       "    }\n",
       "\n",
       "    .dataframe tbody tr th {\n",
       "        vertical-align: top;\n",
       "    }\n",
       "\n",
       "    .dataframe thead th {\n",
       "        text-align: right;\n",
       "    }\n",
       "</style>\n",
       "<table border=\"1\" class=\"dataframe\">\n",
       "  <thead>\n",
       "    <tr style=\"text-align: right;\">\n",
       "      <th></th>\n",
       "      <th>Value</th>\n",
       "      <th>Grid cell type</th>\n",
       "      <th>Special circumstances unburned</th>\n",
       "      <th>Valid data</th>\n",
       "      <th>Shortened mapping period</th>\n",
       "      <th>Grid cell relabeled algorithm</th>\n",
       "      <th>Spare</th>\n",
       "    </tr>\n",
       "  </thead>\n",
       "  <tbody>\n",
       "    <tr>\n",
       "      <th>0</th>\n",
       "      <td>0</td>\n",
       "      <td>Water</td>\n",
       "      <td>None or not applicable (i.e., burned, unmapped...</td>\n",
       "      <td>False</td>\n",
       "      <td>False</td>\n",
       "      <td>False</td>\n",
       "      <td>NaN</td>\n",
       "    </tr>\n",
       "    <tr>\n",
       "      <th>1</th>\n",
       "      <td>1</td>\n",
       "      <td>Land</td>\n",
       "      <td>None or not applicable (i.e., burned, unmapped...</td>\n",
       "      <td>False</td>\n",
       "      <td>False</td>\n",
       "      <td>False</td>\n",
       "      <td>NaN</td>\n",
       "    </tr>\n",
       "    <tr>\n",
       "      <th>2</th>\n",
       "      <td>3</td>\n",
       "      <td>Land</td>\n",
       "      <td>None or not applicable (i.e., burned, unmapped...</td>\n",
       "      <td>True</td>\n",
       "      <td>False</td>\n",
       "      <td>False</td>\n",
       "      <td>NaN</td>\n",
       "    </tr>\n",
       "    <tr>\n",
       "      <th>3</th>\n",
       "      <td>7</td>\n",
       "      <td>Land</td>\n",
       "      <td>None or not applicable (i.e., burned, unmapped...</td>\n",
       "      <td>True</td>\n",
       "      <td>True</td>\n",
       "      <td>False</td>\n",
       "      <td>NaN</td>\n",
       "    </tr>\n",
       "    <tr>\n",
       "      <th>4</th>\n",
       "      <td>11</td>\n",
       "      <td>Land</td>\n",
       "      <td>None or not applicable (i.e., burned, unmapped...</td>\n",
       "      <td>True</td>\n",
       "      <td>False</td>\n",
       "      <td>True</td>\n",
       "      <td>NaN</td>\n",
       "    </tr>\n",
       "    <tr>\n",
       "      <th>5</th>\n",
       "      <td>15</td>\n",
       "      <td>Land</td>\n",
       "      <td>None or not applicable (i.e., burned, unmapped...</td>\n",
       "      <td>True</td>\n",
       "      <td>True</td>\n",
       "      <td>True</td>\n",
       "      <td>NaN</td>\n",
       "    </tr>\n",
       "    <tr>\n",
       "      <th>6</th>\n",
       "      <td>35</td>\n",
       "      <td>Land</td>\n",
       "      <td>Valid observations spaced too sparsely in time</td>\n",
       "      <td>True</td>\n",
       "      <td>False</td>\n",
       "      <td>False</td>\n",
       "      <td>NaN</td>\n",
       "    </tr>\n",
       "    <tr>\n",
       "      <th>7</th>\n",
       "      <td>67</td>\n",
       "      <td>Land</td>\n",
       "      <td>Too few training observations or insufficient ...</td>\n",
       "      <td>True</td>\n",
       "      <td>False</td>\n",
       "      <td>False</td>\n",
       "      <td>NaN</td>\n",
       "    </tr>\n",
       "    <tr>\n",
       "      <th>8</th>\n",
       "      <td>71</td>\n",
       "      <td>Land</td>\n",
       "      <td>Too few training observations or insufficient ...</td>\n",
       "      <td>True</td>\n",
       "      <td>True</td>\n",
       "      <td>False</td>\n",
       "      <td>NaN</td>\n",
       "    </tr>\n",
       "    <tr>\n",
       "      <th>9</th>\n",
       "      <td>99</td>\n",
       "      <td>Land</td>\n",
       "      <td>Apparent burn date at limits of time series</td>\n",
       "      <td>True</td>\n",
       "      <td>False</td>\n",
       "      <td>False</td>\n",
       "      <td>NaN</td>\n",
       "    </tr>\n",
       "    <tr>\n",
       "      <th>10</th>\n",
       "      <td>131</td>\n",
       "      <td>Land</td>\n",
       "      <td>None or not applicable (i.e., burned, unmapped...</td>\n",
       "      <td>True</td>\n",
       "      <td>False</td>\n",
       "      <td>False</td>\n",
       "      <td>NaN</td>\n",
       "    </tr>\n",
       "  </tbody>\n",
       "</table>\n",
       "</div>"
      ],
      "text/plain": [
       "    Value Grid cell type                     Special circumstances unburned  \\\n",
       "0       0          Water  None or not applicable (i.e., burned, unmapped...   \n",
       "1       1           Land  None or not applicable (i.e., burned, unmapped...   \n",
       "2       3           Land  None or not applicable (i.e., burned, unmapped...   \n",
       "3       7           Land  None or not applicable (i.e., burned, unmapped...   \n",
       "4      11           Land  None or not applicable (i.e., burned, unmapped...   \n",
       "5      15           Land  None or not applicable (i.e., burned, unmapped...   \n",
       "6      35           Land     Valid observations spaced too sparsely in time   \n",
       "7      67           Land  Too few training observations or insufficient ...   \n",
       "8      71           Land  Too few training observations or insufficient ...   \n",
       "9      99           Land        Apparent burn date at limits of time series   \n",
       "10    131           Land  None or not applicable (i.e., burned, unmapped...   \n",
       "\n",
       "    Valid data  Shortened mapping period  Grid cell relabeled algorithm  Spare  \n",
       "0        False                     False                          False    NaN  \n",
       "1        False                     False                          False    NaN  \n",
       "2         True                     False                          False    NaN  \n",
       "3         True                      True                          False    NaN  \n",
       "4         True                     False                           True    NaN  \n",
       "5         True                      True                           True    NaN  \n",
       "6         True                     False                          False    NaN  \n",
       "7         True                     False                          False    NaN  \n",
       "8         True                      True                          False    NaN  \n",
       "9         True                     False                          False    NaN  \n",
       "10        True                     False                          False    NaN  "
      ]
     },
     "execution_count": 29,
     "metadata": {},
     "output_type": "execute_result"
    }
   ],
   "source": [
    "v6_BAQA_lut = pd.read_csv(lut[0])     # Read in the lut\n",
    "v6_BAQA_lut.head(11)  "
   ]
  },
  {
   "cell_type": "code",
   "execution_count": 30,
   "metadata": {},
   "outputs": [
    {
     "data": {
      "text/html": [
       "<div>\n",
       "<style scoped>\n",
       "    .dataframe tbody tr th:only-of-type {\n",
       "        vertical-align: middle;\n",
       "    }\n",
       "\n",
       "    .dataframe tbody tr th {\n",
       "        vertical-align: top;\n",
       "    }\n",
       "\n",
       "    .dataframe thead th {\n",
       "        text-align: right;\n",
       "    }\n",
       "</style>\n",
       "<table border=\"1\" class=\"dataframe\">\n",
       "  <thead>\n",
       "    <tr style=\"text-align: right;\">\n",
       "      <th></th>\n",
       "      <th>Value</th>\n",
       "      <th>Grid cell type</th>\n",
       "      <th>Special circumstances unburned</th>\n",
       "      <th>Valid data</th>\n",
       "      <th>Shortened mapping period</th>\n",
       "      <th>Grid cell relabeled algorithm</th>\n",
       "      <th>Spare</th>\n",
       "    </tr>\n",
       "  </thead>\n",
       "  <tbody>\n",
       "    <tr>\n",
       "      <th>2</th>\n",
       "      <td>3</td>\n",
       "      <td>Land</td>\n",
       "      <td>None or not applicable (i.e., burned, unmapped...</td>\n",
       "      <td>True</td>\n",
       "      <td>False</td>\n",
       "      <td>False</td>\n",
       "      <td>NaN</td>\n",
       "    </tr>\n",
       "    <tr>\n",
       "      <th>3</th>\n",
       "      <td>7</td>\n",
       "      <td>Land</td>\n",
       "      <td>None or not applicable (i.e., burned, unmapped...</td>\n",
       "      <td>True</td>\n",
       "      <td>True</td>\n",
       "      <td>False</td>\n",
       "      <td>NaN</td>\n",
       "    </tr>\n",
       "    <tr>\n",
       "      <th>4</th>\n",
       "      <td>11</td>\n",
       "      <td>Land</td>\n",
       "      <td>None or not applicable (i.e., burned, unmapped...</td>\n",
       "      <td>True</td>\n",
       "      <td>False</td>\n",
       "      <td>True</td>\n",
       "      <td>NaN</td>\n",
       "    </tr>\n",
       "    <tr>\n",
       "      <th>5</th>\n",
       "      <td>15</td>\n",
       "      <td>Land</td>\n",
       "      <td>None or not applicable (i.e., burned, unmapped...</td>\n",
       "      <td>True</td>\n",
       "      <td>True</td>\n",
       "      <td>True</td>\n",
       "      <td>NaN</td>\n",
       "    </tr>\n",
       "    <tr>\n",
       "      <th>6</th>\n",
       "      <td>35</td>\n",
       "      <td>Land</td>\n",
       "      <td>Valid observations spaced too sparsely in time</td>\n",
       "      <td>True</td>\n",
       "      <td>False</td>\n",
       "      <td>False</td>\n",
       "      <td>NaN</td>\n",
       "    </tr>\n",
       "    <tr>\n",
       "      <th>9</th>\n",
       "      <td>99</td>\n",
       "      <td>Land</td>\n",
       "      <td>Apparent burn date at limits of time series</td>\n",
       "      <td>True</td>\n",
       "      <td>False</td>\n",
       "      <td>False</td>\n",
       "      <td>NaN</td>\n",
       "    </tr>\n",
       "    <tr>\n",
       "      <th>10</th>\n",
       "      <td>131</td>\n",
       "      <td>Land</td>\n",
       "      <td>None or not applicable (i.e., burned, unmapped...</td>\n",
       "      <td>True</td>\n",
       "      <td>False</td>\n",
       "      <td>False</td>\n",
       "      <td>NaN</td>\n",
       "    </tr>\n",
       "  </tbody>\n",
       "</table>\n",
       "</div>"
      ],
      "text/plain": [
       "    Value Grid cell type                     Special circumstances unburned  \\\n",
       "2       3           Land  None or not applicable (i.e., burned, unmapped...   \n",
       "3       7           Land  None or not applicable (i.e., burned, unmapped...   \n",
       "4      11           Land  None or not applicable (i.e., burned, unmapped...   \n",
       "5      15           Land  None or not applicable (i.e., burned, unmapped...   \n",
       "6      35           Land     Valid observations spaced too sparsely in time   \n",
       "9      99           Land        Apparent burn date at limits of time series   \n",
       "10    131           Land  None or not applicable (i.e., burned, unmapped...   \n",
       "\n",
       "    Valid data  Shortened mapping period  Grid cell relabeled algorithm  Spare  \n",
       "2         True                     False                          False    NaN  \n",
       "3         True                      True                          False    NaN  \n",
       "4         True                     False                           True    NaN  \n",
       "5         True                      True                           True    NaN  \n",
       "6         True                     False                          False    NaN  \n",
       "9         True                     False                          False    NaN  \n",
       "10        True                     False                          False    NaN  "
      ]
     },
     "execution_count": 30,
     "metadata": {},
     "output_type": "execute_result"
    }
   ],
   "source": [
    "# Include good quality based on MODLAND\n",
    "v6_BAQA_lut = v6_BAQA_lut[v6_BAQA_lut['Valid data'].isin([True])]\n",
    "\n",
    "# Special circumstances unburned\n",
    "SP =[\"Too few training observations or insufficient spectral separability between burned and unburned classes\"]\n",
    "v6_BAQA_lut = v6_BAQA_lut[~v6_BAQA_lut['Special circumstances unburned'].isin(SP)]\n",
    "\n",
    "v6_BAQA_lut"
   ]
  },
  {
   "cell_type": "code",
   "execution_count": 31,
   "metadata": {},
   "outputs": [
    {
     "name": "stdout",
     "output_type": "stream",
     "text": [
      "[3, 7, 11, 15, 35, 99, 131]\n"
     ]
    }
   ],
   "source": [
    "BAgoodQuality = list(v6_BAQA_lut['Value']) # Retrieve list of possible QA values from the quality dataframe\n",
    "print(BAgoodQuality)"
   ]
  },
  {
   "cell_type": "code",
   "execution_count": 32,
   "metadata": {},
   "outputs": [],
   "source": [
    "BA_masked = np.ma.MaskedArray(BAScaled, np.in1d(qualityData, BAgoodQuality, invert = True))    # Apply QA mask to the BA data"
   ]
  },
  {
   "cell_type": "code",
   "execution_count": 33,
   "metadata": {},
   "outputs": [
    {
     "data": {
      "text/plain": [
       "(2276, 2485)"
      ]
     },
     "execution_count": 33,
     "metadata": {},
     "output_type": "execute_result"
    }
   ],
   "source": [
    "BAScaled.shape"
   ]
  },
  {
   "cell_type": "code",
   "execution_count": 34,
   "metadata": {},
   "outputs": [
    {
     "data": {
      "text/plain": [
       "(1138, 1243)"
      ]
     },
     "execution_count": 34,
     "metadata": {},
     "output_type": "execute_result"
    }
   ],
   "source": [
    "LST_masked.shape"
   ]
  },
  {
   "cell_type": "code",
   "execution_count": 35,
   "metadata": {},
   "outputs": [],
   "source": [
    "BA_resampled = scipy.ndimage.zoom(BA_masked,0.5, order=0) # Resample by a factor of 2 with nearest\n",
    "new_col = np.sum(BA_resampled,1).reshape((BA_resampled.shape[0],1))\n",
    "BA_resampled = np.append(BA_resampled,new_col,1)"
   ]
  },
  {
   "cell_type": "code",
   "execution_count": 36,
   "metadata": {},
   "outputs": [],
   "source": [
    "LST_BA = np.ma.MaskedArray(LST_masked, np.in1d(BA_resampled, range(0,367), invert = True)) # Mask array, only include Croplands"
   ]
  },
  {
   "cell_type": "code",
   "execution_count": 37,
   "metadata": {},
   "outputs": [
    {
     "data": {
      "text/plain": [
       "(1138, 1243)"
      ]
     },
     "execution_count": 37,
     "metadata": {},
     "output_type": "execute_result"
    }
   ],
   "source": [
    "BA_resampled.shape"
   ]
  },
  {
   "cell_type": "code",
   "execution_count": 38,
   "metadata": {},
   "outputs": [
    {
     "data": {
      "text/plain": [
       "(1138, 1243)"
      ]
     },
     "execution_count": 38,
     "metadata": {},
     "output_type": "execute_result"
    }
   ],
   "source": [
    "LST_masked.shape"
   ]
  },
  {
   "cell_type": "code",
   "execution_count": 39,
   "metadata": {
    "scrolled": true
   },
   "outputs": [
    {
     "data": {
      "text/plain": [
       "masked_array(\n",
       "  data=[[--, --, --, ..., --, --, --],\n",
       "        [--, --, --, ..., --, --, --],\n",
       "        [--, --, --, ..., --, --, --],\n",
       "        ...,\n",
       "        [--, --, --, ..., --, --, --],\n",
       "        [--, --, --, ..., --, --, --],\n",
       "        [--, --, --, ..., --, --, --]],\n",
       "  mask=[[ True,  True,  True, ...,  True,  True,  True],\n",
       "        [ True,  True,  True, ...,  True,  True,  True],\n",
       "        [ True,  True,  True, ...,  True,  True,  True],\n",
       "        ...,\n",
       "        [ True,  True,  True, ...,  True,  True,  True],\n",
       "        [ True,  True,  True, ...,  True,  True,  True],\n",
       "        [ True,  True,  True, ...,  True,  True,  True]],\n",
       "  fill_value=1e+20)"
      ]
     },
     "execution_count": 39,
     "metadata": {},
     "output_type": "execute_result"
    }
   ],
   "source": [
    "LST_BA"
   ]
  },
  {
   "cell_type": "code",
   "execution_count": 40,
   "metadata": {},
   "outputs": [
    {
     "data": {
      "text/plain": [
       "array([269.84, 277.  , 276.72, ..., 290.34, 290.52, 290.58])"
      ]
     },
     "execution_count": 40,
     "metadata": {},
     "output_type": "execute_result"
    }
   ],
   "source": [
    "LST_BA.compressed()"
   ]
  },
  {
   "cell_type": "code",
   "execution_count": 41,
   "metadata": {},
   "outputs": [
    {
     "data": {
      "text/plain": [
       "280.17090176425035"
      ]
     },
     "execution_count": 41,
     "metadata": {},
     "output_type": "execute_result"
    }
   ],
   "source": [
    "LST_BA.mean()"
   ]
  },
  {
   "cell_type": "code",
   "execution_count": null,
   "metadata": {},
   "outputs": [],
   "source": []
  }
 ],
 "metadata": {
  "kernelspec": {
   "display_name": "Python 3",
   "language": "python",
   "name": "python3"
  },
  "language_info": {
   "codemirror_mode": {
    "name": "ipython",
    "version": 3
   },
   "file_extension": ".py",
   "mimetype": "text/x-python",
   "name": "python",
   "nbconvert_exporter": "python",
   "pygments_lexer": "ipython3",
   "version": "3.8.3"
  },
  "toc": {
   "base_numbering": 1,
   "nav_menu": {},
   "number_sections": true,
   "sideBar": true,
   "skip_h1_title": false,
   "title_cell": "Table of Contents",
   "title_sidebar": "Contents",
   "toc_cell": false,
   "toc_position": {},
   "toc_section_display": true,
   "toc_window_display": false
  }
 },
 "nbformat": 4,
 "nbformat_minor": 4
}
