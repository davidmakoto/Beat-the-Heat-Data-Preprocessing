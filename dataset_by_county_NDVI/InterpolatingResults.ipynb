{
 "cells": [
  {
   "cell_type": "code",
   "execution_count": 1,
   "metadata": {},
   "outputs": [],
   "source": [
    "#important packages we need for loading the data set\n",
    "import pandas as pd #to store tabular data\n",
    "import numpy as np # to do some math\n",
    "pd.options.mode.chained_assignment = None"
   ]
  },
  {
   "cell_type": "code",
   "execution_count": 2,
   "metadata": {},
   "outputs": [],
   "source": [
    "data = pd.read_csv(r'C:\\Users\\SASUKE\\Desktop\\Spring2021\\COMP491\\GitHub\\Beat-the-Heat-Data-Preprocessing\\dataset_by_county_NDVI\\burn_area_files\\output\\NDVI2019_2020.csv')"
   ]
  },
  {
   "cell_type": "code",
   "execution_count": 3,
   "metadata": {},
   "outputs": [],
   "source": [
    "FIPS = pd.read_csv(r'C:\\Users\\SASUKE\\Desktop\\Spring2021\\COMP491\\GitHub\\Beat-the-Heat-Data-Preprocessing\\dataset_by_county_NDVI\\burn_area_files\\output\\county_fips.csv')"
   ]
  },
  {
   "cell_type": "code",
   "execution_count": 4,
   "metadata": {},
   "outputs": [],
   "source": [
    "data = data.sort_values([\"County_FIP\", \"Date\"], ascending=(True, True))"
   ]
  },
  {
   "cell_type": "code",
   "execution_count": 5,
   "metadata": {},
   "outputs": [
    {
     "output_type": "execute_result",
     "data": {
      "text/plain": [
       "            Date      NDVI  County_FIP\n",
       "0     01/01/2019  0.539433           1\n",
       "1     01/01/2020  0.579524           1\n",
       "2     01/01/2021  0.438359           1\n",
       "3     01/17/2019  0.575613           1\n",
       "4     01/17/2020  0.603082           1\n",
       "...          ...       ...         ...\n",
       "2721  11/17/2019  0.529391         115\n",
       "2722  12/02/2020  0.487556         115\n",
       "2723  12/03/2019  0.530412         115\n",
       "2724  12/18/2020  0.509955         115\n",
       "2725  12/19/2019  0.554968         115\n",
       "\n",
       "[2726 rows x 3 columns]"
      ],
      "text/html": "<div>\n<style scoped>\n    .dataframe tbody tr th:only-of-type {\n        vertical-align: middle;\n    }\n\n    .dataframe tbody tr th {\n        vertical-align: top;\n    }\n\n    .dataframe thead th {\n        text-align: right;\n    }\n</style>\n<table border=\"1\" class=\"dataframe\">\n  <thead>\n    <tr style=\"text-align: right;\">\n      <th></th>\n      <th>Date</th>\n      <th>NDVI</th>\n      <th>County_FIP</th>\n    </tr>\n  </thead>\n  <tbody>\n    <tr>\n      <th>0</th>\n      <td>01/01/2019</td>\n      <td>0.539433</td>\n      <td>1</td>\n    </tr>\n    <tr>\n      <th>1</th>\n      <td>01/01/2020</td>\n      <td>0.579524</td>\n      <td>1</td>\n    </tr>\n    <tr>\n      <th>2</th>\n      <td>01/01/2021</td>\n      <td>0.438359</td>\n      <td>1</td>\n    </tr>\n    <tr>\n      <th>3</th>\n      <td>01/17/2019</td>\n      <td>0.575613</td>\n      <td>1</td>\n    </tr>\n    <tr>\n      <th>4</th>\n      <td>01/17/2020</td>\n      <td>0.603082</td>\n      <td>1</td>\n    </tr>\n    <tr>\n      <th>...</th>\n      <td>...</td>\n      <td>...</td>\n      <td>...</td>\n    </tr>\n    <tr>\n      <th>2721</th>\n      <td>11/17/2019</td>\n      <td>0.529391</td>\n      <td>115</td>\n    </tr>\n    <tr>\n      <th>2722</th>\n      <td>12/02/2020</td>\n      <td>0.487556</td>\n      <td>115</td>\n    </tr>\n    <tr>\n      <th>2723</th>\n      <td>12/03/2019</td>\n      <td>0.530412</td>\n      <td>115</td>\n    </tr>\n    <tr>\n      <th>2724</th>\n      <td>12/18/2020</td>\n      <td>0.509955</td>\n      <td>115</td>\n    </tr>\n    <tr>\n      <th>2725</th>\n      <td>12/19/2019</td>\n      <td>0.554968</td>\n      <td>115</td>\n    </tr>\n  </tbody>\n</table>\n<p>2726 rows × 3 columns</p>\n</div>"
     },
     "metadata": {},
     "execution_count": 5
    }
   ],
   "source": [
    "data"
   ]
  },
  {
   "cell_type": "code",
   "execution_count": 6,
   "metadata": {},
   "outputs": [],
   "source": [
    "appended_data = pd.DataFrame()\n",
    "for i in range(0, len(FIPS)):\n",
    "    county = data[data.County_FIP == FIPS['FIP'][i]]\n",
    "    county['Date'] = pd.to_datetime(county['Date'], format='%m/%d/%Y')\n",
    "    county = county.sort_values([\"Date\"])\n",
    "    county = county.set_index('Date')\n",
    "    county = county.resample('D').mean()\n",
    "    county[\"NDVI\"] = county[\"NDVI\"].interpolate(method='linear')\n",
    "    county.fillna(method='ffill', inplace=True)\n",
    "    appended_data = appended_data.append(county,ignore_index=False)"
   ]
  },
  {
   "cell_type": "code",
   "execution_count": 7,
   "metadata": {},
   "outputs": [],
   "source": [
    "#print(appended_data)\n",
    "appended_data.to_csv(r'C:\\Users\\SASUKE\\Desktop\\Spring2021\\COMP491\\GitHub\\Beat-the-Heat-Data-Preprocessing\\dataset_by_county_NDVI\\burn_area_files\\output\\NDVI_Interpolated_2019_2020.csv', index=True)"
   ]
  },
  {
   "cell_type": "code",
   "execution_count": null,
   "metadata": {},
   "outputs": [],
   "source": []
  }
 ],
 "metadata": {
  "kernelspec": {
   "name": "python383jvsc74a57bd0bae3fcaf5c97909ec33821ea4612483b9ca75ff4f29372ea329c19d4b29d9d7e",
   "display_name": "Python 3.8.3 64-bit ('base': conda)"
  },
  "language_info": {
   "codemirror_mode": {
    "name": "ipython",
    "version": 3
   },
   "file_extension": ".py",
   "mimetype": "text/x-python",
   "name": "python",
   "nbconvert_exporter": "python",
   "pygments_lexer": "ipython3",
   "version": "3.8.3"
  }
 },
 "nbformat": 4,
 "nbformat_minor": 4
}