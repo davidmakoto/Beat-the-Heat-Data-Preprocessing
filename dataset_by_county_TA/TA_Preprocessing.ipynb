{
 "cells": [
  {
   "cell_type": "markdown",
   "id": "helpful-senate",
   "metadata": {},
   "source": [
    "# Using data on a local machine"
   ]
  },
  {
   "cell_type": "code",
   "execution_count": 1,
   "id": "comparable-assistant",
   "metadata": {},
   "outputs": [],
   "source": [
    "# Import libraries\n",
    "import os\n",
    "import glob\n",
    "from osgeo import gdal\n",
    "import numpy as np\n",
    "import matplotlib.pyplot as plt\n",
    "import scipy.ndimage\n",
    "import pandas as pd\n",
    "import datetime as dt"
   ]
  },
  {
   "cell_type": "code",
   "execution_count": 2,
   "id": "legal-denver",
   "metadata": {},
   "outputs": [],
   "source": [
    "# Set input directory, and change working directory\n",
    "inDir = 'C:/Users/kayle/Desktop/TA&BA/'  # IMPORTANT: Update to reflect directory on your OS\n",
    "os.chdir(inDir)                                                               # Change to working directory\n",
    "outDir = os.path.normpath(os.path.split(inDir)[0] + os.sep + 'output') + '\\\\' # Create and set output directory\n",
    "if not os.path.exists(outDir): os.makedirs(outDir)"
   ]
  },
  {
   "cell_type": "markdown",
   "id": "decimal-drunk",
   "metadata": {},
   "source": [
    "# TA dataset"
   ]
  },
  {
   "cell_type": "code",
   "execution_count": 3,
   "id": "controlling-authorization",
   "metadata": {},
   "outputs": [],
   "source": [
    "FMFiles = glob.glob('VNP14A1.001_FireMask_****.tif')             # Search for and create a list of EVI files\n",
    "FMqualityFiles =glob.glob('VNP14A1.001_QA_**.tif')  # Search the directory for the associated quality .tifs\n",
    "FMlut = glob.glob('VNP14A1-001-QA-lookup.csv')                                        # Search for look up table \n",
    "FM_QA_lut = pd.read_csv(FMlut[0])                                    # Read in the lut\n",
    "\n",
    "# Include good quality based on land/water state\n",
    "FM_QA_lut = FM_QA_lut[FM_QA_lut['land/water state'].isin(['coast', 'land'])]\n",
    "\n",
    "FMgoodQuality = list(FM_QA_lut['Value']) # Retrieve list of possible QA values from the quality dataframe"
   ]
  },
  {
   "cell_type": "markdown",
   "id": "standard-appreciation",
   "metadata": {},
   "source": [
    "# BurnedArea"
   ]
  },
  {
   "cell_type": "code",
   "execution_count": 4,
   "id": "outer-industry",
   "metadata": {},
   "outputs": [],
   "source": [
    "BAFiles = glob.glob('MCD64A1.006_Burn_Date_**.tif') # Search for and create a list of BA files\n",
    "BAqualityFiles =glob.glob('MCD64A1.006_QA_**.tif')    # Search the directory for the associated quality .tifs\n",
    "BAlut = glob.glob('MCD64A1-006-QA-lookup.csv')                     # Search for look up table \n",
    "BA_QA_lut = pd.read_csv(BAlut[0])     # Read in the lut\n",
    "\n",
    "# Include good quality based on MODLAND\n",
    "BA_QA_lut = BA_QA_lut[BA_QA_lut['Valid data'].isin([True])]\n",
    "\n",
    "# Special circumstances unburned\n",
    "SP =[\"Too few training observations or insufficient spectral separability between burned and unburned classes\"]\n",
    "BA_QA_lut = BA_QA_lut[~BA_QA_lut['Special circumstances unburned'].isin(SP)]\n",
    "BA_QA_lut\n",
    "\n",
    "BAgoodQuality = list(BA_QA_lut['Value']) # Retrieve list of possible QA values from the quality dataframe"
   ]
  },
  {
   "cell_type": "code",
   "execution_count": 5,
   "id": "delayed-disaster",
   "metadata": {},
   "outputs": [],
   "source": [
    "def getBAFile(BAF, month, year):\n",
    "    for x in BAF:\n",
    "        # File name metadata:\n",
    "        BAproductId = x.split('_')[0]                                     # First: product name\n",
    "        BAlayerId = x.split(BAproductId + '_')[1].split('_doy')[0]        # Second: layer name\n",
    "        BAyeardoy = x.split(BAlayerId+'_doy')[1].split('_aid')[0]         # Third: date\n",
    "        file_year = dt.datetime.strptime(BAyeardoy, '%Y%j').year\n",
    "        file_month = dt.datetime.strptime(BAyeardoy, '%Y%j').month\n",
    "        if file_year==year  and file_month == month:\n",
    "            return(x) "
   ]
  },
  {
   "cell_type": "markdown",
   "id": "cross-upper",
   "metadata": {},
   "source": [
    "# Masking TA by the BurnedArea using only goodQuality data"
   ]
  },
  {
   "cell_type": "code",
   "execution_count": 6,
   "id": "asian-genre",
   "metadata": {},
   "outputs": [],
   "source": [
    "TA_result = []\n",
    "#Process through 731 FM files\n",
    "for i in range(0, len(FMFiles)):\n",
    "    FM = gdal.Open(FMFiles[i])                    # Read file in, starting with MOD13Q1 version 6\n",
    "    FMBand = FM.GetRasterBand(1)                  # Read the band (layer)\n",
    "    FMData = FMBand.ReadAsArray().astype('float') # Import band as an array with type float\n",
    "    \n",
    "    FMquality = gdal.Open(FMqualityFiles[i])                       # Open the first quality file\n",
    "    FMqualityData = FMquality.GetRasterBand(1).ReadAsArray()       # Read in as an array\n",
    "    FMquality = None \n",
    "        \n",
    "    # File name metadata:\n",
    "    FMproductId = FMFiles[i].split('_')[0]                                      # First: product name\n",
    "    FMlayerId = FMFiles[i].split(FMproductId + '_')[1].split('_doy')[0]        # Second: layer name\n",
    "    FMyeardoy = FMFiles[i].split(FMlayerId+'_doy')[1].split('_aid')[0]         # Third: date\n",
    "    FM_aid = FMFiles[i].split(FMyeardoy+'_')[1].split('.tif')[0]                # Fourth: unique ROI identifier (aid)\n",
    "    FM_date = dt.datetime.strptime(FMyeardoy, '%Y%j').strftime('%m/%d/%Y')       # Convert YYYYDDD to MM/DD/YYYY\n",
    "    FM_year = dt.datetime.strptime(FMyeardoy, '%Y%j').year\n",
    "    FM_month = dt.datetime.strptime(FMyeardoy, '%Y%j').month   \n",
    "    \n",
    "    BAFileName = getBAFile(BAFiles, FM_month, FM_year)\n",
    "    BAQualityFileName = getBAFile(BAqualityFiles, FM_month, FM_year)\n",
    "    if not BAFileName in (None, ''):\n",
    "        BA = gdal.Open(BAFileName)      # Read file in, starting with MCD64A1 version 6\n",
    "        BABand = BA.GetRasterBand(1)                                 # Read the band (layer)\n",
    "        BAData = BABand.ReadAsArray().astype('float')                # Import band as an array with type float  \n",
    "        \n",
    "        BAquality = gdal.Open(BAQualityFileName)   # Open the first quality file\n",
    "        BAqualityData = BAquality.GetRasterBand(1).ReadAsArray()                # Read in as an array\n",
    "        BAquality = None \n",
    "\n",
    "        # File Metadata\n",
    "        BA_meta = BA.GetMetadata()                        # Store metadata in dictionary\n",
    "        FM_meta = FM.GetMetadata()                      # Store metadata in dictionary\n",
    "\n",
    "        # Band metadata\n",
    "        BAFill = BABand.GetNoDataValue()                  # Returns fill value\n",
    "        BAStats = BABand.GetStatistics(True, True)        # returns min, max, mean, and standard deviation\n",
    "        BA = None                                         # Close the GeoTIFF file\n",
    "\n",
    "        # Band metadata\n",
    "        FMFill = FMBand.GetNoDataValue()                # Returns fill value\n",
    "        FMStats = FMBand.GetStatistics(True, True)      # returns min, max, mean, and standard deviation\n",
    "        FM = None                                        # Close the GeoTIFF file\n",
    "\n",
    "        BAscaleFactor = float(BA_meta['scale_factor'])    # Search the metadata dictionary for the scale factor \n",
    "        BAunits = BA_meta['units']                        # Search the metadata dictionary for the units\n",
    "        BAData[BAData == BAFill] = np.nan                 # Set the fill value equal to NaN for the array\n",
    "        BAScaled = BAData * BAscaleFactor                 # Apply the scale factor using simple multiplication\n",
    "\n",
    "        FMscaleFactor = float(FM_meta['scale_factor'])  # Search the metadata dictionary for the scale factor \n",
    "        FMunits = FM_meta['units']                      # Search the metadata dictionary for the units\n",
    "        FMData[FMData == FMFill] = np.nan              # Set the fill value equal to NaN for the array\n",
    "        FMScaled = FMData * FMscaleFactor              # Apply the scale factor using simple multiplication\n",
    "\n",
    "        BA_masked = np.ma.MaskedArray(BAScaled, np.in1d(BAqualityData, BAgoodQuality, invert = True))    # Apply QA mask to the BA data\n",
    "        FM_masked = np.ma.MaskedArray(FMScaled, np.in1d(FMqualityData, FMgoodQuality, invert = True))# Apply QA mask to the EVI data\n",
    "        BAVal = 0\n",
    "        \n",
    "        BA_resampled = scipy.ndimage.zoom(BA_masked,0.5, order=0)   # Resample by a factor of 2 with nearest neighbor interpolation\n",
    "        new_col = np.sum(BA_resampled,1).reshape((BA_resampled.shape[0],1))\n",
    "        BA_resampled =  np.append(BA_resampled,new_col,1)\n",
    "        \n",
    "        FM_BA = np.ma.MaskedArray(FM_masked, np.in1d(BA_resampled, BAVal, invert = True)) # Mask array, include only BurnArea\n",
    "    \n",
    "        TA_result.append([FM_date,FM_BA.max()])\n",
    "TA_df = pd.DataFrame(TA_result, columns=[\"Date\",\"TA\"])\n"
   ]
  },
  {
   "cell_type": "code",
   "execution_count": 7,
   "id": "revised-georgia",
   "metadata": {},
   "outputs": [
    {
     "data": {
      "text/plain": [
       "(731, 2)"
      ]
     },
     "execution_count": 7,
     "metadata": {},
     "output_type": "execute_result"
    }
   ],
   "source": [
    "TA_df.shape"
   ]
  },
  {
   "cell_type": "code",
   "execution_count": 8,
   "id": "strategic-polish",
   "metadata": {},
   "outputs": [
    {
     "data": {
      "text/html": [
       "<div>\n",
       "<style scoped>\n",
       "    .dataframe tbody tr th:only-of-type {\n",
       "        vertical-align: middle;\n",
       "    }\n",
       "\n",
       "    .dataframe tbody tr th {\n",
       "        vertical-align: top;\n",
       "    }\n",
       "\n",
       "    .dataframe thead th {\n",
       "        text-align: right;\n",
       "    }\n",
       "</style>\n",
       "<table border=\"1\" class=\"dataframe\">\n",
       "  <thead>\n",
       "    <tr style=\"text-align: right;\">\n",
       "      <th></th>\n",
       "      <th>Date</th>\n",
       "      <th>TA</th>\n",
       "    </tr>\n",
       "  </thead>\n",
       "  <tbody>\n",
       "    <tr>\n",
       "      <th>0</th>\n",
       "      <td>01/01/2019</td>\n",
       "      <td>8.0</td>\n",
       "    </tr>\n",
       "    <tr>\n",
       "      <th>1</th>\n",
       "      <td>01/02/2019</td>\n",
       "      <td>9.0</td>\n",
       "    </tr>\n",
       "    <tr>\n",
       "      <th>2</th>\n",
       "      <td>01/03/2019</td>\n",
       "      <td>9.0</td>\n",
       "    </tr>\n",
       "    <tr>\n",
       "      <th>3</th>\n",
       "      <td>01/04/2019</td>\n",
       "      <td>8.0</td>\n",
       "    </tr>\n",
       "    <tr>\n",
       "      <th>4</th>\n",
       "      <td>01/05/2019</td>\n",
       "      <td>5.0</td>\n",
       "    </tr>\n",
       "    <tr>\n",
       "      <th>...</th>\n",
       "      <td>...</td>\n",
       "      <td>...</td>\n",
       "    </tr>\n",
       "    <tr>\n",
       "      <th>726</th>\n",
       "      <td>12/27/2020</td>\n",
       "      <td>9.0</td>\n",
       "    </tr>\n",
       "    <tr>\n",
       "      <th>727</th>\n",
       "      <td>12/28/2020</td>\n",
       "      <td>9.0</td>\n",
       "    </tr>\n",
       "    <tr>\n",
       "      <th>728</th>\n",
       "      <td>12/29/2020</td>\n",
       "      <td>9.0</td>\n",
       "    </tr>\n",
       "    <tr>\n",
       "      <th>729</th>\n",
       "      <td>12/30/2020</td>\n",
       "      <td>9.0</td>\n",
       "    </tr>\n",
       "    <tr>\n",
       "      <th>730</th>\n",
       "      <td>12/31/2020</td>\n",
       "      <td>9.0</td>\n",
       "    </tr>\n",
       "  </tbody>\n",
       "</table>\n",
       "<p>731 rows × 2 columns</p>\n",
       "</div>"
      ],
      "text/plain": [
       "           Date   TA\n",
       "0    01/01/2019  8.0\n",
       "1    01/02/2019  9.0\n",
       "2    01/03/2019  9.0\n",
       "3    01/04/2019  8.0\n",
       "4    01/05/2019  5.0\n",
       "..          ...  ...\n",
       "726  12/27/2020  9.0\n",
       "727  12/28/2020  9.0\n",
       "728  12/29/2020  9.0\n",
       "729  12/30/2020  9.0\n",
       "730  12/31/2020  9.0\n",
       "\n",
       "[731 rows x 2 columns]"
      ]
     },
     "execution_count": 8,
     "metadata": {},
     "output_type": "execute_result"
    }
   ],
   "source": [
    "TA_df"
   ]
  },
  {
   "cell_type": "code",
   "execution_count": 9,
   "id": "radical-freedom",
   "metadata": {},
   "outputs": [
    {
     "data": {
      "text/html": [
       "<div>\n",
       "<style scoped>\n",
       "    .dataframe tbody tr th:only-of-type {\n",
       "        vertical-align: middle;\n",
       "    }\n",
       "\n",
       "    .dataframe tbody tr th {\n",
       "        vertical-align: top;\n",
       "    }\n",
       "\n",
       "    .dataframe thead th {\n",
       "        text-align: right;\n",
       "    }\n",
       "</style>\n",
       "<table border=\"1\" class=\"dataframe\">\n",
       "  <thead>\n",
       "    <tr style=\"text-align: right;\">\n",
       "      <th></th>\n",
       "      <th>TA</th>\n",
       "    </tr>\n",
       "  </thead>\n",
       "  <tbody>\n",
       "    <tr>\n",
       "      <th>count</th>\n",
       "      <td>731.000000</td>\n",
       "    </tr>\n",
       "    <tr>\n",
       "      <th>mean</th>\n",
       "      <td>8.373461</td>\n",
       "    </tr>\n",
       "    <tr>\n",
       "      <th>std</th>\n",
       "      <td>1.239225</td>\n",
       "    </tr>\n",
       "    <tr>\n",
       "      <th>min</th>\n",
       "      <td>5.000000</td>\n",
       "    </tr>\n",
       "    <tr>\n",
       "      <th>25%</th>\n",
       "      <td>8.000000</td>\n",
       "    </tr>\n",
       "    <tr>\n",
       "      <th>50%</th>\n",
       "      <td>9.000000</td>\n",
       "    </tr>\n",
       "    <tr>\n",
       "      <th>75%</th>\n",
       "      <td>9.000000</td>\n",
       "    </tr>\n",
       "    <tr>\n",
       "      <th>max</th>\n",
       "      <td>9.000000</td>\n",
       "    </tr>\n",
       "  </tbody>\n",
       "</table>\n",
       "</div>"
      ],
      "text/plain": [
       "               TA\n",
       "count  731.000000\n",
       "mean     8.373461\n",
       "std      1.239225\n",
       "min      5.000000\n",
       "25%      8.000000\n",
       "50%      9.000000\n",
       "75%      9.000000\n",
       "max      9.000000"
      ]
     },
     "execution_count": 9,
     "metadata": {},
     "output_type": "execute_result"
    }
   ],
   "source": [
    "TA_df.describe()"
   ]
  },
  {
   "cell_type": "code",
   "execution_count": 10,
   "id": "demanding-oxide",
   "metadata": {},
   "outputs": [],
   "source": [
    "\n",
    "TA_df.to_csv('TA.csv'.format(outDir), index = False)   # Export TA_df to CSV"
   ]
  }
 ],
 "metadata": {
  "kernelspec": {
   "display_name": "Python 3",
   "language": "python",
   "name": "python3"
  },
  "language_info": {
   "codemirror_mode": {
    "name": "ipython",
    "version": 3
   },
   "file_extension": ".py",
   "mimetype": "text/x-python",
   "name": "python",
   "nbconvert_exporter": "python",
   "pygments_lexer": "ipython3",
   "version": "3.7.9"
  }
 },
 "nbformat": 4,
 "nbformat_minor": 5
}
